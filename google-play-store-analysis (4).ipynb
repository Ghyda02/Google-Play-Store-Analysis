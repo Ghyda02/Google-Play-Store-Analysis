{
 "cells": [
  {
   "cell_type": "markdown",
   "id": "4f995cc7",
   "metadata": {
    "papermill": {
     "duration": 0.013994,
     "end_time": "2024-08-22T13:27:30.898538",
     "exception": false,
     "start_time": "2024-08-22T13:27:30.884544",
     "status": "completed"
    },
    "tags": []
   },
   "source": [
    "# Google Play Store Analysis\n",
    "\n",
    "This project aims to explore key trends in the mobile app industry by analyzing three critical questions. First, we investigate which app genre tends to receive the highest ratings, providing insights into user preferences. Secondly, we examine whether there is a significant difference in the number of downloads between free and paid apps, shedding light on consumer behavior in terms of cost. Lastly, we identify the category with the highest number of applications, revealing where developers are most concentrated and possibly where the competition is fiercest.\n",
    "\n",
    "**We want to start the analysis with questions and then answer them through images.**\n",
    "\n",
    "* Which genre tends to get a higher rating?\n",
    "* Is there a substantial difference between the amount of downloads of free apps and paid apps?\n",
    "* Which category has the highest number of applications?"
   ]
  },
  {
   "cell_type": "markdown",
   "id": "3d81e0b2",
   "metadata": {
    "papermill": {
     "duration": 0.013181,
     "end_time": "2024-08-22T13:27:30.925240",
     "exception": false,
     "start_time": "2024-08-22T13:27:30.912059",
     "status": "completed"
    },
    "tags": []
   },
   "source": [
    "## Import library"
   ]
  },
  {
   "cell_type": "code",
   "execution_count": 1,
   "id": "fcf70455",
   "metadata": {
    "execution": {
     "iopub.execute_input": "2024-08-22T13:27:30.956266Z",
     "iopub.status.busy": "2024-08-22T13:27:30.955630Z",
     "iopub.status.idle": "2024-08-22T13:27:33.733250Z",
     "shell.execute_reply": "2024-08-22T13:27:33.731949Z"
    },
    "papermill": {
     "duration": 2.796724,
     "end_time": "2024-08-22T13:27:33.736231",
     "exception": false,
     "start_time": "2024-08-22T13:27:30.939507",
     "status": "completed"
    },
    "tags": []
   },
   "outputs": [],
   "source": [
    "import pandas as pd\n",
    "import squarify\n",
    "import matplotlib.pyplot as plt\n",
    "import seaborn as sns"
   ]
  },
  {
   "cell_type": "markdown",
   "id": "5828bb18",
   "metadata": {
    "papermill": {
     "duration": 0.013429,
     "end_time": "2024-08-22T13:27:33.763721",
     "exception": false,
     "start_time": "2024-08-22T13:27:33.750292",
     "status": "completed"
    },
    "tags": []
   },
   "source": [
    "## load Dataset"
   ]
  },
  {
   "cell_type": "code",
   "execution_count": 2,
   "id": "4f278a3b",
   "metadata": {
    "execution": {
     "iopub.execute_input": "2024-08-22T13:27:33.794003Z",
     "iopub.status.busy": "2024-08-22T13:27:33.792959Z",
     "iopub.status.idle": "2024-08-22T13:27:33.879451Z",
     "shell.execute_reply": "2024-08-22T13:27:33.878019Z"
    },
    "papermill": {
     "duration": 0.105981,
     "end_time": "2024-08-22T13:27:33.883198",
     "exception": false,
     "start_time": "2024-08-22T13:27:33.777217",
     "status": "completed"
    },
    "tags": []
   },
   "outputs": [],
   "source": [
    "goolgleApps = pd.read_csv(\"/kaggle/input/google-playstore-app/googleplaystore(edited).csv\")"
   ]
  },
  {
   "cell_type": "markdown",
   "id": "8fd047d5",
   "metadata": {
    "papermill": {
     "duration": 0.013419,
     "end_time": "2024-08-22T13:27:33.911167",
     "exception": false,
     "start_time": "2024-08-22T13:27:33.897748",
     "status": "completed"
    },
    "tags": []
   },
   "source": [
    "Dataset description:\n",
    "\n",
    "**App**: (Application name) \n",
    "\n",
    "**Category**: (Category the app belongs to)\n",
    "\n",
    "**Rating**: (Overall user rating of the app)\n",
    "\n",
    "**Reviews**: (Number of user reviews for the app) \n",
    "\n",
    "**Size**: (Size of the app)\n",
    "\n",
    "**Installs**: (Number of user downloads/installs for the app)\n",
    "\n",
    "**Type**: (Paid or Free)\n",
    "\n",
    "**Price**: (Price of the app)\n",
    "\n",
    "**Content Rating**: (Age group the app is targeted at - Children / Mature 21+ / Adult) \n",
    "\n",
    "**Genres**: (An app can belong to multiple genres)\n",
    "\n",
    "**Last Updated**: (Date when the app was last updated on Play Store)\n",
    "\n",
    "**Current Ver**: (Current version of the app available on Play Store)\n",
    "\n",
    "**Android Ver**: (Min required Android version)\n"
   ]
  },
  {
   "cell_type": "markdown",
   "id": "877273a3",
   "metadata": {
    "papermill": {
     "duration": 0.013395,
     "end_time": "2024-08-22T13:27:33.937973",
     "exception": false,
     "start_time": "2024-08-22T13:27:33.924578",
     "status": "completed"
    },
    "tags": []
   },
   "source": [
    "## Cleaning Dataset"
   ]
  },
  {
   "cell_type": "code",
   "execution_count": 3,
   "id": "3787947f",
   "metadata": {
    "execution": {
     "iopub.execute_input": "2024-08-22T13:27:33.966975Z",
     "iopub.status.busy": "2024-08-22T13:27:33.966420Z",
     "iopub.status.idle": "2024-08-22T13:27:33.977179Z",
     "shell.execute_reply": "2024-08-22T13:27:33.975833Z"
    },
    "papermill": {
     "duration": 0.028948,
     "end_time": "2024-08-22T13:27:33.980320",
     "exception": false,
     "start_time": "2024-08-22T13:27:33.951372",
     "status": "completed"
    },
    "tags": []
   },
   "outputs": [
    {
     "data": {
      "text/plain": [
       "(10841, 13)"
      ]
     },
     "execution_count": 3,
     "metadata": {},
     "output_type": "execute_result"
    }
   ],
   "source": [
    "# check the dimensions of the dataset\n",
    "goolgleApps.shape"
   ]
  },
  {
   "cell_type": "code",
   "execution_count": 4,
   "id": "3e843654",
   "metadata": {
    "execution": {
     "iopub.execute_input": "2024-08-22T13:27:34.012658Z",
     "iopub.status.busy": "2024-08-22T13:27:34.012084Z",
     "iopub.status.idle": "2024-08-22T13:27:34.050201Z",
     "shell.execute_reply": "2024-08-22T13:27:34.048574Z"
    },
    "papermill": {
     "duration": 0.057362,
     "end_time": "2024-08-22T13:27:34.053330",
     "exception": false,
     "start_time": "2024-08-22T13:27:33.995968",
     "status": "completed"
    },
    "tags": []
   },
   "outputs": [
    {
     "data": {
      "text/html": [
       "<div>\n",
       "<style scoped>\n",
       "    .dataframe tbody tr th:only-of-type {\n",
       "        vertical-align: middle;\n",
       "    }\n",
       "\n",
       "    .dataframe tbody tr th {\n",
       "        vertical-align: top;\n",
       "    }\n",
       "\n",
       "    .dataframe thead th {\n",
       "        text-align: right;\n",
       "    }\n",
       "</style>\n",
       "<table border=\"1\" class=\"dataframe\">\n",
       "  <thead>\n",
       "    <tr style=\"text-align: right;\">\n",
       "      <th></th>\n",
       "      <th>App</th>\n",
       "      <th>Category</th>\n",
       "      <th>Rating</th>\n",
       "      <th>Reviews</th>\n",
       "      <th>Size</th>\n",
       "      <th>Installs</th>\n",
       "      <th>Type</th>\n",
       "      <th>Price</th>\n",
       "      <th>Content Rating</th>\n",
       "      <th>Genres</th>\n",
       "      <th>Last Updated</th>\n",
       "      <th>Current Ver</th>\n",
       "      <th>Android Ver</th>\n",
       "    </tr>\n",
       "  </thead>\n",
       "  <tbody>\n",
       "    <tr>\n",
       "      <th>0</th>\n",
       "      <td>Photo Editor &amp; Candy Camera &amp; Grid &amp; ScrapBook</td>\n",
       "      <td>ART_AND_DESIGN</td>\n",
       "      <td>4.1</td>\n",
       "      <td>159</td>\n",
       "      <td>19M</td>\n",
       "      <td>10,000+</td>\n",
       "      <td>Free</td>\n",
       "      <td>0</td>\n",
       "      <td>Everyone</td>\n",
       "      <td>Art &amp; Design</td>\n",
       "      <td>7-Jan-18</td>\n",
       "      <td>1.0.0</td>\n",
       "      <td>4.0.3 and up</td>\n",
       "    </tr>\n",
       "    <tr>\n",
       "      <th>1</th>\n",
       "      <td>Coloring book moana</td>\n",
       "      <td>ART_AND_DESIGN</td>\n",
       "      <td>3.9</td>\n",
       "      <td>967</td>\n",
       "      <td>14M</td>\n",
       "      <td>500,000+</td>\n",
       "      <td>Free</td>\n",
       "      <td>0</td>\n",
       "      <td>Everyone</td>\n",
       "      <td>Art &amp; Design;Pretend Play</td>\n",
       "      <td>15-Jan-18</td>\n",
       "      <td>2.0.0</td>\n",
       "      <td>4.0.3 and up</td>\n",
       "    </tr>\n",
       "    <tr>\n",
       "      <th>2</th>\n",
       "      <td>U Launcher Lite â€“ FREE Live Cool Themes, Hid...</td>\n",
       "      <td>ART_AND_DESIGN</td>\n",
       "      <td>4.7</td>\n",
       "      <td>87510</td>\n",
       "      <td>8.7M</td>\n",
       "      <td>5,000,000+</td>\n",
       "      <td>Free</td>\n",
       "      <td>0</td>\n",
       "      <td>Everyone</td>\n",
       "      <td>Art &amp; Design</td>\n",
       "      <td>1-Aug-18</td>\n",
       "      <td>1.2.4</td>\n",
       "      <td>4.0.3 and up</td>\n",
       "    </tr>\n",
       "    <tr>\n",
       "      <th>3</th>\n",
       "      <td>Sketch - Draw &amp; Paint</td>\n",
       "      <td>ART_AND_DESIGN</td>\n",
       "      <td>4.5</td>\n",
       "      <td>215644</td>\n",
       "      <td>25M</td>\n",
       "      <td>50,000,000+</td>\n",
       "      <td>Free</td>\n",
       "      <td>0</td>\n",
       "      <td>Teen</td>\n",
       "      <td>Art &amp; Design</td>\n",
       "      <td>8-Jun-18</td>\n",
       "      <td>Varies with device</td>\n",
       "      <td>4.2 and up</td>\n",
       "    </tr>\n",
       "    <tr>\n",
       "      <th>4</th>\n",
       "      <td>Pixel Draw - Number Art Coloring Book</td>\n",
       "      <td>ART_AND_DESIGN</td>\n",
       "      <td>4.3</td>\n",
       "      <td>967</td>\n",
       "      <td>2.8M</td>\n",
       "      <td>100,000+</td>\n",
       "      <td>Free</td>\n",
       "      <td>0</td>\n",
       "      <td>Everyone</td>\n",
       "      <td>Art &amp; Design;Creativity</td>\n",
       "      <td>20-Jun-18</td>\n",
       "      <td>1.1</td>\n",
       "      <td>4.4 and up</td>\n",
       "    </tr>\n",
       "  </tbody>\n",
       "</table>\n",
       "</div>"
      ],
      "text/plain": [
       "                                                 App        Category  Rating  \\\n",
       "0     Photo Editor & Candy Camera & Grid & ScrapBook  ART_AND_DESIGN     4.1   \n",
       "1                                Coloring book moana  ART_AND_DESIGN     3.9   \n",
       "2  U Launcher Lite â€“ FREE Live Cool Themes, Hid...  ART_AND_DESIGN     4.7   \n",
       "3                              Sketch - Draw & Paint  ART_AND_DESIGN     4.5   \n",
       "4              Pixel Draw - Number Art Coloring Book  ART_AND_DESIGN     4.3   \n",
       "\n",
       "   Reviews  Size     Installs  Type Price Content Rating  \\\n",
       "0      159   19M      10,000+  Free     0       Everyone   \n",
       "1      967   14M     500,000+  Free     0       Everyone   \n",
       "2    87510  8.7M   5,000,000+  Free     0       Everyone   \n",
       "3   215644   25M  50,000,000+  Free     0           Teen   \n",
       "4      967  2.8M     100,000+  Free     0       Everyone   \n",
       "\n",
       "                      Genres Last Updated         Current Ver   Android Ver  \n",
       "0               Art & Design     7-Jan-18               1.0.0  4.0.3 and up  \n",
       "1  Art & Design;Pretend Play    15-Jan-18               2.0.0  4.0.3 and up  \n",
       "2               Art & Design     1-Aug-18               1.2.4  4.0.3 and up  \n",
       "3               Art & Design     8-Jun-18  Varies with device    4.2 and up  \n",
       "4    Art & Design;Creativity    20-Jun-18                 1.1    4.4 and up  "
      ]
     },
     "execution_count": 4,
     "metadata": {},
     "output_type": "execute_result"
    }
   ],
   "source": [
    "# check the first 5 rows of the dataset\n",
    "goolgleApps.head()"
   ]
  },
  {
   "cell_type": "code",
   "execution_count": 5,
   "id": "89f53ef9",
   "metadata": {
    "execution": {
     "iopub.execute_input": "2024-08-22T13:27:34.085906Z",
     "iopub.status.busy": "2024-08-22T13:27:34.085331Z",
     "iopub.status.idle": "2024-08-22T13:27:34.144757Z",
     "shell.execute_reply": "2024-08-22T13:27:34.143513Z"
    },
    "papermill": {
     "duration": 0.078649,
     "end_time": "2024-08-22T13:27:34.147632",
     "exception": false,
     "start_time": "2024-08-22T13:27:34.068983",
     "status": "completed"
    },
    "tags": []
   },
   "outputs": [],
   "source": [
    "# show the columns of the new dataset and we skipped a row so it doesnt treat the header as a row\n",
    "DataSet = pd.read_csv(\"/kaggle/input/google-playstore-app/googleplaystore(edited).csv\", names=['App', 'Category', 'Rating', 'Reviews', 'Size',\n",
    "                                                        'Installs', 'Type', 'Price', 'Content Rating', 'Genres',\n",
    "                                                        'Last Updated', 'Current Ver', 'Android Ver'],\n",
    "                          skiprows=1,low_memory=False, index_col=0)"
   ]
  },
  {
   "cell_type": "code",
   "execution_count": 6,
   "id": "b39efc82",
   "metadata": {
    "execution": {
     "iopub.execute_input": "2024-08-22T13:27:34.178554Z",
     "iopub.status.busy": "2024-08-22T13:27:34.178064Z",
     "iopub.status.idle": "2024-08-22T13:27:34.220657Z",
     "shell.execute_reply": "2024-08-22T13:27:34.219203Z"
    },
    "papermill": {
     "duration": 0.061976,
     "end_time": "2024-08-22T13:27:34.223804",
     "exception": false,
     "start_time": "2024-08-22T13:27:34.161828",
     "status": "completed"
    },
    "tags": []
   },
   "outputs": [
    {
     "name": "stdout",
     "output_type": "stream",
     "text": [
      "<class 'pandas.core.frame.DataFrame'>\n",
      "Index: 10841 entries, Photo Editor & Candy Camera & Grid & ScrapBook to iHoroscope - 2018 Daily Horoscope & Astrology\n",
      "Data columns (total 12 columns):\n",
      " #   Column          Non-Null Count  Dtype  \n",
      "---  ------          --------------  -----  \n",
      " 0   Category        10840 non-null  object \n",
      " 1   Rating          9367 non-null   float64\n",
      " 2   Reviews         10841 non-null  int64  \n",
      " 3   Size            10841 non-null  object \n",
      " 4   Installs        10841 non-null  object \n",
      " 5   Type            10840 non-null  object \n",
      " 6   Price           10841 non-null  object \n",
      " 7   Content Rating  10841 non-null  object \n",
      " 8   Genres          10840 non-null  object \n",
      " 9   Last Updated    10841 non-null  object \n",
      " 10  Current Ver     10833 non-null  object \n",
      " 11  Android Ver     10839 non-null  object \n",
      "dtypes: float64(1), int64(1), object(10)\n",
      "memory usage: 1.1+ MB\n"
     ]
    }
   ],
   "source": [
    "# Print a summary of the DataFrame\n",
    "DataSet.info()"
   ]
  },
  {
   "cell_type": "code",
   "execution_count": 7,
   "id": "62a2076d",
   "metadata": {
    "execution": {
     "iopub.execute_input": "2024-08-22T13:27:34.258615Z",
     "iopub.status.busy": "2024-08-22T13:27:34.258163Z",
     "iopub.status.idle": "2024-08-22T13:27:34.280083Z",
     "shell.execute_reply": "2024-08-22T13:27:34.279010Z"
    },
    "papermill": {
     "duration": 0.04387,
     "end_time": "2024-08-22T13:27:34.283026",
     "exception": false,
     "start_time": "2024-08-22T13:27:34.239156",
     "status": "completed"
    },
    "tags": []
   },
   "outputs": [
    {
     "data": {
      "text/plain": [
       "Category             1\n",
       "Rating            1474\n",
       "Reviews              0\n",
       "Size                 0\n",
       "Installs             0\n",
       "Type                 1\n",
       "Price                0\n",
       "Content Rating       0\n",
       "Genres               1\n",
       "Last Updated         0\n",
       "Current Ver          8\n",
       "Android Ver          2\n",
       "dtype: int64"
      ]
     },
     "execution_count": 7,
     "metadata": {},
     "output_type": "execute_result"
    }
   ],
   "source": [
    "# Check the number of null values in the columns\n",
    "DataSet.isnull().sum()\n"
   ]
  },
  {
   "cell_type": "code",
   "execution_count": 8,
   "id": "56af6dd1",
   "metadata": {
    "execution": {
     "iopub.execute_input": "2024-08-22T13:27:34.313536Z",
     "iopub.status.busy": "2024-08-22T13:27:34.313052Z",
     "iopub.status.idle": "2024-08-22T13:27:34.326944Z",
     "shell.execute_reply": "2024-08-22T13:27:34.325485Z"
    },
    "papermill": {
     "duration": 0.032447,
     "end_time": "2024-08-22T13:27:34.329895",
     "exception": false,
     "start_time": "2024-08-22T13:27:34.297448",
     "status": "completed"
    },
    "tags": []
   },
   "outputs": [],
   "source": [
    "# Inspect the nulls in the Android Version column\n",
    "(DataSet[DataSet['Android Ver'].isnull()])\n",
    "DataSet.rename(columns={'Android Ver':'Android_Ver'}, inplace=True)\n"
   ]
  },
  {
   "cell_type": "code",
   "execution_count": 9,
   "id": "53b3f7bd",
   "metadata": {
    "execution": {
     "iopub.execute_input": "2024-08-22T13:27:34.362885Z",
     "iopub.status.busy": "2024-08-22T13:27:34.362410Z",
     "iopub.status.idle": "2024-08-22T13:27:34.374861Z",
     "shell.execute_reply": "2024-08-22T13:27:34.373791Z"
    },
    "papermill": {
     "duration": 0.032353,
     "end_time": "2024-08-22T13:27:34.377299",
     "exception": false,
     "start_time": "2024-08-22T13:27:34.344946",
     "status": "completed"
    },
    "tags": []
   },
   "outputs": [
    {
     "data": {
      "text/plain": [
       "Android_Ver\n",
       "4.1 and up            2451\n",
       "4.0.3 and up          1501\n",
       "4.0 and up            1376\n",
       "Varies with device    1362\n",
       "4.4 and up             980\n",
       "2.3 and up             652\n",
       "5.0 and up             601\n",
       "4.2 and up             394\n",
       "2.3.3 and up           281\n",
       "2.2 and up             244\n",
       "4.3 and up             243\n",
       "3.0 and up             241\n",
       "2.1 and up             134\n",
       "1.6 and up             116\n",
       "6.0 and up              60\n",
       "7.0 and up              42\n",
       "3.2 and up              36\n",
       "2.0 and up              32\n",
       "5.1 and up              24\n",
       "1.5 and up              20\n",
       "4.4W and up             12\n",
       "3.1 and up              10\n",
       "2.0.1 and up             7\n",
       "8.0 and up               6\n",
       "7.1 and up               3\n",
       "4.0.3 - 7.1.1            2\n",
       "5.0 - 8.0                2\n",
       "1.0 and up               2\n",
       "7.0 - 7.1.1              1\n",
       "4.1 - 7.1.1              1\n",
       "5.0 - 6.0                1\n",
       "2.2 - 7.1.1              1\n",
       "5.0 - 7.1.1              1\n",
       "Name: count, dtype: int64"
      ]
     },
     "execution_count": 9,
     "metadata": {},
     "output_type": "execute_result"
    }
   ],
   "source": [
    "# Check the value counts for Android Version column\n",
    "DataSet['Android_Ver'].value_counts()"
   ]
  },
  {
   "cell_type": "code",
   "execution_count": 10,
   "id": "0f6d9575",
   "metadata": {
    "execution": {
     "iopub.execute_input": "2024-08-22T13:27:34.408618Z",
     "iopub.status.busy": "2024-08-22T13:27:34.408113Z",
     "iopub.status.idle": "2024-08-22T13:27:34.436187Z",
     "shell.execute_reply": "2024-08-22T13:27:34.434621Z"
    },
    "papermill": {
     "duration": 0.04747,
     "end_time": "2024-08-22T13:27:34.439324",
     "exception": false,
     "start_time": "2024-08-22T13:27:34.391854",
     "status": "completed"
    },
    "tags": []
   },
   "outputs": [
    {
     "data": {
      "text/plain": [
       "(9477, 12)"
      ]
     },
     "execution_count": 10,
     "metadata": {},
     "output_type": "execute_result"
    }
   ],
   "source": [
    "# Drop the shifted record\n",
    "DataSet = DataSet[~((DataSet.Category == '1.9'))]\n",
    "DataSet = DataSet[~((DataSet['Android_Ver'].isnull()))]\n",
    "DataSet = DataSet[~((DataSet.Android_Ver == 'Varies with device'))]\n",
    "DataSet.shape"
   ]
  },
  {
   "cell_type": "code",
   "execution_count": 11,
   "id": "702dc61f",
   "metadata": {
    "execution": {
     "iopub.execute_input": "2024-08-22T13:27:34.471793Z",
     "iopub.status.busy": "2024-08-22T13:27:34.471318Z",
     "iopub.status.idle": "2024-08-22T13:27:34.481142Z",
     "shell.execute_reply": "2024-08-22T13:27:34.479893Z"
    },
    "papermill": {
     "duration": 0.029713,
     "end_time": "2024-08-22T13:27:34.484609",
     "exception": false,
     "start_time": "2024-08-22T13:27:34.454896",
     "status": "completed"
    },
    "tags": []
   },
   "outputs": [
    {
     "name": "stdout",
     "output_type": "stream",
     "text": [
      "Android_Ver\n",
      "4.1 and up       2451\n",
      "4.0.3 and up     1501\n",
      "4.0 and up       1376\n",
      "4.4 and up        980\n",
      "2.3 and up        652\n",
      "5.0 and up        601\n",
      "4.2 and up        394\n",
      "2.3.3 and up      281\n",
      "2.2 and up        244\n",
      "4.3 and up        243\n",
      "3.0 and up        241\n",
      "2.1 and up        134\n",
      "1.6 and up        116\n",
      "6.0 and up         60\n",
      "7.0 and up         42\n",
      "3.2 and up         36\n",
      "2.0 and up         32\n",
      "5.1 and up         24\n",
      "1.5 and up         20\n",
      "4.4W and up        12\n",
      "3.1 and up         10\n",
      "2.0.1 and up        7\n",
      "8.0 and up          6\n",
      "7.1 and up          3\n",
      "5.0 - 8.0           2\n",
      "4.0.3 - 7.1.1       2\n",
      "1.0 and up          2\n",
      "7.0 - 7.1.1         1\n",
      "4.1 - 7.1.1         1\n",
      "5.0 - 6.0           1\n",
      "2.2 - 7.1.1         1\n",
      "5.0 - 7.1.1         1\n",
      "Name: count, dtype: int64\n"
     ]
    }
   ],
   "source": [
    "# Check the value counts for Android Version column\n",
    "print(DataSet['Android_Ver'].value_counts())"
   ]
  },
  {
   "cell_type": "code",
   "execution_count": 12,
   "id": "53b5d6a7",
   "metadata": {
    "execution": {
     "iopub.execute_input": "2024-08-22T13:27:34.517458Z",
     "iopub.status.busy": "2024-08-22T13:27:34.516953Z",
     "iopub.status.idle": "2024-08-22T13:27:34.537571Z",
     "shell.execute_reply": "2024-08-22T13:27:34.535505Z"
    },
    "papermill": {
     "duration": 0.040552,
     "end_time": "2024-08-22T13:27:34.540818",
     "exception": false,
     "start_time": "2024-08-22T13:27:34.500266",
     "status": "completed"
    },
    "tags": []
   },
   "outputs": [
    {
     "name": "stdout",
     "output_type": "stream",
     "text": [
      "(9477, 12)\n",
      "Category             1\n",
      "Rating            1431\n",
      "Reviews              0\n",
      "Size                 0\n",
      "Installs             0\n",
      "Type                 0\n",
      "Price                0\n",
      "Content Rating       0\n",
      "Genres               1\n",
      "Last Updated         0\n",
      "Current Ver          8\n",
      "Android_Ver          0\n",
      "dtype: int64\n"
     ]
    }
   ],
   "source": [
    "# Check the dataframe again for null values to cross-verify\n",
    "print(DataSet.shape)\n",
    "print(DataSet.isnull().sum())"
   ]
  },
  {
   "cell_type": "code",
   "execution_count": 13,
   "id": "5a5d4138",
   "metadata": {
    "execution": {
     "iopub.execute_input": "2024-08-22T13:27:34.576008Z",
     "iopub.status.busy": "2024-08-22T13:27:34.575576Z",
     "iopub.status.idle": "2024-08-22T13:27:34.593774Z",
     "shell.execute_reply": "2024-08-22T13:27:34.591858Z"
    },
    "papermill": {
     "duration": 0.038972,
     "end_time": "2024-08-22T13:27:34.596570",
     "exception": false,
     "start_time": "2024-08-22T13:27:34.557598",
     "status": "completed"
    },
    "tags": []
   },
   "outputs": [
    {
     "name": "stdout",
     "output_type": "stream",
     "text": [
      "                                            Category  Rating  Reviews  Size  \\\n",
      "App                                                                           \n",
      "Learn To Draw Kawaii Characters       ART_AND_DESIGN     3.2       55  2.7M   \n",
      "Market Update Helper              LIBRARIES_AND_DEMO     4.1    20145   11k   \n",
      "Virtual DJ Sound Mixer                         TOOLS     4.2     4010  8.7M   \n",
      "BT Master                                     FAMILY     NaN        0  222k   \n",
      "Dots puzzle                                   FAMILY     4.0      179   14M   \n",
      "Calculate My IQ                               FAMILY     NaN       44  7.2M   \n",
      "UFO-CQ                                         TOOLS     NaN        1  237k   \n",
      "La Fe de Jesus                   BOOKS_AND_REFERENCE     NaN        8  658k   \n",
      "\n",
      "                                   Installs  Type   Price Content Rating  \\\n",
      "App                                                                        \n",
      "Learn To Draw Kawaii Characters      5,000+  Free       0       Everyone   \n",
      "Market Update Helper             1,000,000+  Free       0       Everyone   \n",
      "Virtual DJ Sound Mixer             500,000+  Free       0       Everyone   \n",
      "BT Master                              100+  Free       0       Everyone   \n",
      "Dots puzzle                         50,000+  Paid  $0.99        Everyone   \n",
      "Calculate My IQ                     10,000+  Free       0       Everyone   \n",
      "UFO-CQ                                  10+  Paid  $0.99        Everyone   \n",
      "La Fe de Jesus                       1,000+  Free       0       Everyone   \n",
      "\n",
      "                                            Genres Last Updated Current Ver  \\\n",
      "App                                                                           \n",
      "Learn To Draw Kawaii Characters       Art & Design     6-Jun-18         NaN   \n",
      "Market Update Helper              Libraries & Demo    12-Feb-13         NaN   \n",
      "Virtual DJ Sound Mixer                       Tools    10-May-17         NaN   \n",
      "BT Master                                Education     6-Nov-16         NaN   \n",
      "Dots puzzle                                 Puzzle    18-Apr-18         NaN   \n",
      "Calculate My IQ                      Entertainment     3-Apr-17         NaN   \n",
      "UFO-CQ                                       Tools     4-Jul-16         NaN   \n",
      "La Fe de Jesus                   Books & Reference    31-Jan-17         NaN   \n",
      "\n",
      "                                Android_Ver  \n",
      "App                                          \n",
      "Learn To Draw Kawaii Characters  4.2 and up  \n",
      "Market Update Helper             1.5 and up  \n",
      "Virtual DJ Sound Mixer           4.0 and up  \n",
      "BT Master                        1.6 and up  \n",
      "Dots puzzle                      4.0 and up  \n",
      "Calculate My IQ                  2.3 and up  \n",
      "UFO-CQ                           2.0 and up  \n",
      "La Fe de Jesus                   3.0 and up  \n"
     ]
    }
   ],
   "source": [
    "# Check the records where the current version is null\n",
    "print(DataSet[DataSet['Current Ver'].isnull()])"
   ]
  },
  {
   "cell_type": "code",
   "execution_count": 14,
   "id": "31bc70ff",
   "metadata": {
    "execution": {
     "iopub.execute_input": "2024-08-22T13:27:34.628831Z",
     "iopub.status.busy": "2024-08-22T13:27:34.628433Z",
     "iopub.status.idle": "2024-08-22T13:27:34.653596Z",
     "shell.execute_reply": "2024-08-22T13:27:34.652183Z"
    },
    "papermill": {
     "duration": 0.044275,
     "end_time": "2024-08-22T13:27:34.656320",
     "exception": false,
     "start_time": "2024-08-22T13:27:34.612045",
     "status": "completed"
    },
    "tags": []
   },
   "outputs": [
    {
     "name": "stdout",
     "output_type": "stream",
     "text": [
      "Current Ver\n",
      "1                     840\n",
      "1.1                   275\n",
      "1.2                   185\n",
      "Varies with device    169\n",
      "2                     165\n",
      "                     ... \n",
      "7.16.8                  1\n",
      "5.1.0 free              1\n",
      "04.08.00                1\n",
      "2.10.06                 1\n",
      "2.0.148.0               1\n",
      "Name: count, Length: 2755, dtype: int64\n"
     ]
    }
   ],
   "source": [
    "# Check the value counts for Current Version column\n",
    "print(DataSet['Current Ver'].value_counts())\n",
    "DataSet.rename(columns={'Current Ver':'Current_Ver'}, inplace=True)\n",
    "DataSet = DataSet[~((DataSet['Current_Ver'].isnull()))]\n",
    "DataSet = DataSet[~((DataSet.Current_Ver == 'Varies with device'))]"
   ]
  },
  {
   "cell_type": "code",
   "execution_count": 15,
   "id": "d6e135a1",
   "metadata": {
    "execution": {
     "iopub.execute_input": "2024-08-22T13:27:34.688635Z",
     "iopub.status.busy": "2024-08-22T13:27:34.688173Z",
     "iopub.status.idle": "2024-08-22T13:27:34.699516Z",
     "shell.execute_reply": "2024-08-22T13:27:34.698201Z"
    },
    "papermill": {
     "duration": 0.030823,
     "end_time": "2024-08-22T13:27:34.702389",
     "exception": false,
     "start_time": "2024-08-22T13:27:34.671566",
     "status": "completed"
    },
    "tags": []
   },
   "outputs": [
    {
     "name": "stdout",
     "output_type": "stream",
     "text": [
      "Current_Ver\n",
      "1             840\n",
      "1.1           275\n",
      "1.2           185\n",
      "2             165\n",
      "1.3           145\n",
      "             ... \n",
      "7.16.8          1\n",
      "5.1.0 free      1\n",
      "04.08.00        1\n",
      "18.0.2          1\n",
      "2.0.148.0       1\n",
      "Name: count, Length: 2754, dtype: int64\n"
     ]
    }
   ],
   "source": [
    "# Check the value counts for Current Version column again\n",
    "print(DataSet['Current_Ver'].value_counts())"
   ]
  },
  {
   "cell_type": "code",
   "execution_count": 16,
   "id": "d7baabd9",
   "metadata": {
    "execution": {
     "iopub.execute_input": "2024-08-22T13:27:34.735374Z",
     "iopub.status.busy": "2024-08-22T13:27:34.734876Z",
     "iopub.status.idle": "2024-08-22T13:27:34.748185Z",
     "shell.execute_reply": "2024-08-22T13:27:34.746858Z"
    },
    "papermill": {
     "duration": 0.032952,
     "end_time": "2024-08-22T13:27:34.751153",
     "exception": false,
     "start_time": "2024-08-22T13:27:34.718201",
     "status": "completed"
    },
    "tags": []
   },
   "outputs": [],
   "source": [
    "# Drop the records with null in rating\n",
    "DataSet.dropna(subset=['Rating'],inplace=True)"
   ]
  },
  {
   "cell_type": "code",
   "execution_count": 17,
   "id": "93a36f77",
   "metadata": {
    "execution": {
     "iopub.execute_input": "2024-08-22T13:27:34.784640Z",
     "iopub.status.busy": "2024-08-22T13:27:34.784187Z",
     "iopub.status.idle": "2024-08-22T13:27:34.801283Z",
     "shell.execute_reply": "2024-08-22T13:27:34.799702Z"
    },
    "papermill": {
     "duration": 0.037027,
     "end_time": "2024-08-22T13:27:34.803877",
     "exception": false,
     "start_time": "2024-08-22T13:27:34.766850",
     "status": "completed"
    },
    "tags": []
   },
   "outputs": [
    {
     "name": "stdout",
     "output_type": "stream",
     "text": [
      "Category          1\n",
      "Rating            0\n",
      "Reviews           0\n",
      "Size              0\n",
      "Installs          0\n",
      "Type              0\n",
      "Price             0\n",
      "Content Rating    0\n",
      "Genres            1\n",
      "Last Updated      0\n",
      "Current_Ver       0\n",
      "Android_Ver       0\n",
      "dtype: int64\n"
     ]
    }
   ],
   "source": [
    "# Check the dataframe again for null values to cross-verify\n",
    "print(DataSet.isnull().sum())\n"
   ]
  },
  {
   "cell_type": "code",
   "execution_count": 18,
   "id": "cfd8bb70",
   "metadata": {
    "execution": {
     "iopub.execute_input": "2024-08-22T13:27:34.839424Z",
     "iopub.status.busy": "2024-08-22T13:27:34.838837Z",
     "iopub.status.idle": "2024-08-22T13:27:34.849202Z",
     "shell.execute_reply": "2024-08-22T13:27:34.847761Z"
    },
    "papermill": {
     "duration": 0.031312,
     "end_time": "2024-08-22T13:27:34.851908",
     "exception": false,
     "start_time": "2024-08-22T13:27:34.820596",
     "status": "completed"
    },
    "tags": []
   },
   "outputs": [
    {
     "name": "stdout",
     "output_type": "stream",
     "text": [
      "Price\n",
      "0           7298\n",
      "$0.99        104\n",
      "$2.99        102\n",
      "$4.99         60\n",
      "$1.99         54\n",
      "            ... \n",
      "$1.29          1\n",
      "$299.99        1\n",
      "$379.99        1\n",
      "$37.99         1\n",
      "$1.20          1\n",
      "Name: count, Length: 69, dtype: int64\n"
     ]
    }
   ],
   "source": [
    "# Checking Price column\n",
    "print(DataSet.Price.value_counts())"
   ]
  },
  {
   "cell_type": "code",
   "execution_count": 19,
   "id": "f56fd98f",
   "metadata": {
    "execution": {
     "iopub.execute_input": "2024-08-22T13:27:34.885923Z",
     "iopub.status.busy": "2024-08-22T13:27:34.885518Z",
     "iopub.status.idle": "2024-08-22T13:27:34.901385Z",
     "shell.execute_reply": "2024-08-22T13:27:34.899956Z"
    },
    "papermill": {
     "duration": 0.036437,
     "end_time": "2024-08-22T13:27:34.904027",
     "exception": false,
     "start_time": "2024-08-22T13:27:34.867590",
     "status": "completed"
    },
    "tags": []
   },
   "outputs": [
    {
     "name": "stdout",
     "output_type": "stream",
     "text": [
      "True\n"
     ]
    }
   ],
   "source": [
    "# Check that all non-zero values in Price column starts with '$'\n",
    "print(DataSet.Price.shape[0] == DataSet.Price.str.startswith('$').sum() + DataSet.Price[DataSet.Price == '0'].count())"
   ]
  },
  {
   "cell_type": "code",
   "execution_count": 20,
   "id": "91196367",
   "metadata": {
    "execution": {
     "iopub.execute_input": "2024-08-22T13:27:34.937649Z",
     "iopub.status.busy": "2024-08-22T13:27:34.937209Z",
     "iopub.status.idle": "2024-08-22T13:27:34.950469Z",
     "shell.execute_reply": "2024-08-22T13:27:34.949141Z"
    },
    "papermill": {
     "duration": 0.033998,
     "end_time": "2024-08-22T13:27:34.953534",
     "exception": false,
     "start_time": "2024-08-22T13:27:34.919536",
     "status": "completed"
    },
    "tags": []
   },
   "outputs": [],
   "source": [
    "# Get rid of '$' and change the type to float64\n",
    "DataSet.Price = DataSet.Price.apply(lambda x: float(x.replace('$', '')))"
   ]
  },
  {
   "cell_type": "code",
   "execution_count": 21,
   "id": "1f691121",
   "metadata": {
    "execution": {
     "iopub.execute_input": "2024-08-22T13:27:34.988015Z",
     "iopub.status.busy": "2024-08-22T13:27:34.987554Z",
     "iopub.status.idle": "2024-08-22T13:27:34.994865Z",
     "shell.execute_reply": "2024-08-22T13:27:34.993231Z"
    },
    "papermill": {
     "duration": 0.029791,
     "end_time": "2024-08-22T13:27:34.999078",
     "exception": false,
     "start_time": "2024-08-22T13:27:34.969287",
     "status": "completed"
    },
    "tags": []
   },
   "outputs": [
    {
     "name": "stdout",
     "output_type": "stream",
     "text": [
      "float64\n"
     ]
    }
   ],
   "source": [
    "# check the data type for the price column\n",
    "print(DataSet.Price.dtype)"
   ]
  },
  {
   "cell_type": "code",
   "execution_count": 22,
   "id": "5b5a8d71",
   "metadata": {
    "execution": {
     "iopub.execute_input": "2024-08-22T13:27:35.036770Z",
     "iopub.status.busy": "2024-08-22T13:27:35.036305Z",
     "iopub.status.idle": "2024-08-22T13:27:35.047568Z",
     "shell.execute_reply": "2024-08-22T13:27:35.046075Z"
    },
    "papermill": {
     "duration": 0.033203,
     "end_time": "2024-08-22T13:27:35.050613",
     "exception": false,
     "start_time": "2024-08-22T13:27:35.017410",
     "status": "completed"
    },
    "tags": []
   },
   "outputs": [
    {
     "name": "stdout",
     "output_type": "stream",
     "text": [
      "Reviews\n",
      "2         83\n",
      "3         78\n",
      "5         74\n",
      "4         72\n",
      "1         67\n",
      "          ..\n",
      "6762       1\n",
      "120373     1\n",
      "40225      1\n",
      "18294      1\n",
      "1195       1\n",
      "Name: count, Length: 4791, dtype: int64\n"
     ]
    }
   ],
   "source": [
    "# Check Reviews column\n",
    "print(DataSet.Reviews.value_counts())"
   ]
  },
  {
   "cell_type": "code",
   "execution_count": 23,
   "id": "a78540d6",
   "metadata": {
    "execution": {
     "iopub.execute_input": "2024-08-22T13:27:35.085869Z",
     "iopub.status.busy": "2024-08-22T13:27:35.085393Z",
     "iopub.status.idle": "2024-08-22T13:27:35.101312Z",
     "shell.execute_reply": "2024-08-22T13:27:35.099877Z"
    },
    "papermill": {
     "duration": 0.036241,
     "end_time": "2024-08-22T13:27:35.103836",
     "exception": false,
     "start_time": "2024-08-22T13:27:35.067595",
     "status": "completed"
    },
    "tags": []
   },
   "outputs": [],
   "source": [
    "# Convert the 'Reviews' column to strings\n",
    "DataSet['Reviews'] = DataSet['Reviews'].astype(str)\n",
    "\n",
    "# Now check if all values are digits\n",
    "all_digits = DataSet['Reviews'].str.isdigit().sum() == DataSet['Reviews'].shape[0]"
   ]
  },
  {
   "cell_type": "code",
   "execution_count": 24,
   "id": "f74ccb5b",
   "metadata": {
    "execution": {
     "iopub.execute_input": "2024-08-22T13:27:35.138599Z",
     "iopub.status.busy": "2024-08-22T13:27:35.138148Z",
     "iopub.status.idle": "2024-08-22T13:27:35.146470Z",
     "shell.execute_reply": "2024-08-22T13:27:35.144834Z"
    },
    "papermill": {
     "duration": 0.029347,
     "end_time": "2024-08-22T13:27:35.149418",
     "exception": false,
     "start_time": "2024-08-22T13:27:35.120071",
     "status": "completed"
    },
    "tags": []
   },
   "outputs": [],
   "source": [
    "# Change the dtype of Reveiws column to be int64\n",
    "DataSet.Reviews = DataSet.Reviews.astype('int64')"
   ]
  },
  {
   "cell_type": "code",
   "execution_count": 25,
   "id": "85c37f2c",
   "metadata": {
    "execution": {
     "iopub.execute_input": "2024-08-22T13:27:35.185376Z",
     "iopub.status.busy": "2024-08-22T13:27:35.184928Z",
     "iopub.status.idle": "2024-08-22T13:27:35.191640Z",
     "shell.execute_reply": "2024-08-22T13:27:35.190107Z"
    },
    "papermill": {
     "duration": 0.028916,
     "end_time": "2024-08-22T13:27:35.195060",
     "exception": false,
     "start_time": "2024-08-22T13:27:35.166144",
     "status": "completed"
    },
    "tags": []
   },
   "outputs": [
    {
     "name": "stdout",
     "output_type": "stream",
     "text": [
      "int64\n"
     ]
    }
   ],
   "source": [
    "# check the data type for the Reviews column\n",
    "print(DataSet.Reviews.dtype)"
   ]
  },
  {
   "cell_type": "code",
   "execution_count": 26,
   "id": "0a59a1d0",
   "metadata": {
    "execution": {
     "iopub.execute_input": "2024-08-22T13:27:35.232289Z",
     "iopub.status.busy": "2024-08-22T13:27:35.231766Z",
     "iopub.status.idle": "2024-08-22T13:27:35.241864Z",
     "shell.execute_reply": "2024-08-22T13:27:35.240493Z"
    },
    "papermill": {
     "duration": 0.032721,
     "end_time": "2024-08-22T13:27:35.245548",
     "exception": false,
     "start_time": "2024-08-22T13:27:35.212827",
     "status": "completed"
    },
    "tags": []
   },
   "outputs": [
    {
     "name": "stdout",
     "output_type": "stream",
     "text": [
      "Installs\n",
      "1,000,000+        1322\n",
      "100,000+          1056\n",
      "10,000+            975\n",
      "10,000,000+        862\n",
      "1,000+             692\n",
      "5,000,000+         547\n",
      "500,000+           488\n",
      "50,000+            436\n",
      "5,000+             420\n",
      "100+               303\n",
      "100,000,000+       220\n",
      "500+               198\n",
      "50,000,000+        177\n",
      "10+                 69\n",
      "50+                 55\n",
      "500,000,000+        35\n",
      "1,000,000,000+      10\n",
      "5+                   9\n",
      "1+                   3\n",
      "Name: count, dtype: int64\n"
     ]
    }
   ],
   "source": [
    "# Check Installs column\n",
    "print(DataSet.Installs.value_counts())"
   ]
  },
  {
   "cell_type": "code",
   "execution_count": 27,
   "id": "b32dd3a9",
   "metadata": {
    "execution": {
     "iopub.execute_input": "2024-08-22T13:27:35.285689Z",
     "iopub.status.busy": "2024-08-22T13:27:35.285223Z",
     "iopub.status.idle": "2024-08-22T13:27:35.302620Z",
     "shell.execute_reply": "2024-08-22T13:27:35.301338Z"
    },
    "papermill": {
     "duration": 0.041289,
     "end_time": "2024-08-22T13:27:35.305822",
     "exception": false,
     "start_time": "2024-08-22T13:27:35.264533",
     "status": "completed"
    },
    "tags": []
   },
   "outputs": [],
   "source": [
    "# Get rid of ',' & '+' and change the type to int64\n",
    "DataSet.Installs = DataSet.Installs.apply(lambda x: int(x.replace(',', '').replace('+', '')))"
   ]
  },
  {
   "cell_type": "code",
   "execution_count": 28,
   "id": "8acee8ff",
   "metadata": {
    "execution": {
     "iopub.execute_input": "2024-08-22T13:27:35.340968Z",
     "iopub.status.busy": "2024-08-22T13:27:35.340412Z",
     "iopub.status.idle": "2024-08-22T13:27:35.348793Z",
     "shell.execute_reply": "2024-08-22T13:27:35.347225Z"
    },
    "papermill": {
     "duration": 0.029663,
     "end_time": "2024-08-22T13:27:35.352072",
     "exception": false,
     "start_time": "2024-08-22T13:27:35.322409",
     "status": "completed"
    },
    "tags": []
   },
   "outputs": [
    {
     "name": "stdout",
     "output_type": "stream",
     "text": [
      "int64\n"
     ]
    }
   ],
   "source": [
    "# check the data type for the Install column\n",
    "print(DataSet.Installs.dtype)\n"
   ]
  },
  {
   "cell_type": "code",
   "execution_count": 29,
   "id": "fc1e60c1",
   "metadata": {
    "execution": {
     "iopub.execute_input": "2024-08-22T13:27:35.388530Z",
     "iopub.status.busy": "2024-08-22T13:27:35.388041Z",
     "iopub.status.idle": "2024-08-22T13:27:35.399192Z",
     "shell.execute_reply": "2024-08-22T13:27:35.397734Z"
    },
    "papermill": {
     "duration": 0.032394,
     "end_time": "2024-08-22T13:27:35.402291",
     "exception": false,
     "start_time": "2024-08-22T13:27:35.369897",
     "status": "completed"
    },
    "tags": []
   },
   "outputs": [
    {
     "name": "stdout",
     "output_type": "stream",
     "text": [
      "Size\n",
      "Varies with device    239\n",
      "14M                   164\n",
      "12M                   155\n",
      "11M                   155\n",
      "13M                   154\n",
      "                     ... \n",
      "454k                    1\n",
      "812k                    1\n",
      "442k                    1\n",
      "842k                    1\n",
      "619k                    1\n",
      "Name: count, Length: 412, dtype: int64\n"
     ]
    }
   ],
   "source": [
    "# Check Size column\n",
    "print(DataSet.Size.value_counts())"
   ]
  },
  {
   "cell_type": "code",
   "execution_count": 30,
   "id": "f5619119",
   "metadata": {
    "execution": {
     "iopub.execute_input": "2024-08-22T13:27:35.437461Z",
     "iopub.status.busy": "2024-08-22T13:27:35.436982Z",
     "iopub.status.idle": "2024-08-22T13:27:35.444281Z",
     "shell.execute_reply": "2024-08-22T13:27:35.442961Z"
    },
    "papermill": {
     "duration": 0.028003,
     "end_time": "2024-08-22T13:27:35.446816",
     "exception": false,
     "start_time": "2024-08-22T13:27:35.418813",
     "status": "completed"
    },
    "tags": []
   },
   "outputs": [],
   "source": [
    "# Define function to fix size - convert all values to KB\n",
    "def fix_size(x):\n",
    "    if x[-1] == 'M':\n",
    "        x = float(x[:-1]) * 10 ** 3\n",
    "    elif x[-1] == 'k':\n",
    "        x = float(x[:-1])\n",
    "    else:\n",
    "        x = None  # Varies with device replaced with Null\n",
    "    return x"
   ]
  },
  {
   "cell_type": "code",
   "execution_count": 31,
   "id": "e8d109e2",
   "metadata": {
    "execution": {
     "iopub.execute_input": "2024-08-22T13:27:35.481540Z",
     "iopub.status.busy": "2024-08-22T13:27:35.481036Z",
     "iopub.status.idle": "2024-08-22T13:27:35.497727Z",
     "shell.execute_reply": "2024-08-22T13:27:35.496232Z"
    },
    "papermill": {
     "duration": 0.038646,
     "end_time": "2024-08-22T13:27:35.501862",
     "exception": false,
     "start_time": "2024-08-22T13:27:35.463216",
     "status": "completed"
    },
    "tags": []
   },
   "outputs": [
    {
     "name": "stdout",
     "output_type": "stream",
     "text": [
      "float64\n"
     ]
    }
   ],
   "source": [
    "# Fix Size column\n",
    "DataSet.Size = DataSet.Size.apply(lambda x: fix_size(x))\n",
    "print(DataSet.Size.dtype)\n"
   ]
  },
  {
   "cell_type": "code",
   "execution_count": 32,
   "id": "6025872a",
   "metadata": {
    "execution": {
     "iopub.execute_input": "2024-08-22T13:27:35.543931Z",
     "iopub.status.busy": "2024-08-22T13:27:35.542924Z",
     "iopub.status.idle": "2024-08-22T13:27:35.564501Z",
     "shell.execute_reply": "2024-08-22T13:27:35.563023Z"
    },
    "papermill": {
     "duration": 0.044511,
     "end_time": "2024-08-22T13:27:35.567457",
     "exception": false,
     "start_time": "2024-08-22T13:27:35.522946",
     "status": "completed"
    },
    "tags": []
   },
   "outputs": [
    {
     "name": "stdout",
     "output_type": "stream",
     "text": [
      "<class 'pandas.core.frame.DataFrame'>\n",
      "Index: 7877 entries, Photo Editor & Candy Camera & Grid & ScrapBook to Fr. Mike Schmitz Audio Teachings\n",
      "Data columns (total 12 columns):\n",
      " #   Column          Non-Null Count  Dtype  \n",
      "---  ------          --------------  -----  \n",
      " 0   Category        7876 non-null   object \n",
      " 1   Rating          7877 non-null   float64\n",
      " 2   Reviews         7877 non-null   int64  \n",
      " 3   Size            7638 non-null   float64\n",
      " 4   Installs        7877 non-null   int64  \n",
      " 5   Type            7877 non-null   object \n",
      " 6   Price           7877 non-null   float64\n",
      " 7   Content Rating  7877 non-null   object \n",
      " 8   Genres          7876 non-null   object \n",
      " 9   Last Updated    7877 non-null   object \n",
      " 10  Current_Ver     7877 non-null   object \n",
      " 11  Android_Ver     7877 non-null   object \n",
      "dtypes: float64(3), int64(2), object(7)\n",
      "memory usage: 1.0+ MB\n"
     ]
    }
   ],
   "source": [
    "# Print a summary of the DataFrame\n",
    "DataSet.info()"
   ]
  },
  {
   "cell_type": "code",
   "execution_count": 33,
   "id": "bfd4324c",
   "metadata": {
    "execution": {
     "iopub.execute_input": "2024-08-22T13:27:35.602672Z",
     "iopub.status.busy": "2024-08-22T13:27:35.602226Z",
     "iopub.status.idle": "2024-08-22T13:27:35.608151Z",
     "shell.execute_reply": "2024-08-22T13:27:35.606814Z"
    },
    "papermill": {
     "duration": 0.026653,
     "end_time": "2024-08-22T13:27:35.610785",
     "exception": false,
     "start_time": "2024-08-22T13:27:35.584132",
     "status": "completed"
    },
    "tags": []
   },
   "outputs": [
    {
     "name": "stdout",
     "output_type": "stream",
     "text": [
      "(7877, 12)\n"
     ]
    }
   ],
   "source": [
    "# check the shape\n",
    "print(DataSet.shape)"
   ]
  },
  {
   "cell_type": "code",
   "execution_count": 34,
   "id": "a792369e",
   "metadata": {
    "execution": {
     "iopub.execute_input": "2024-08-22T13:27:35.645573Z",
     "iopub.status.busy": "2024-08-22T13:27:35.645152Z",
     "iopub.status.idle": "2024-08-22T13:27:35.667841Z",
     "shell.execute_reply": "2024-08-22T13:27:35.666328Z"
    },
    "papermill": {
     "duration": 0.043464,
     "end_time": "2024-08-22T13:27:35.670668",
     "exception": false,
     "start_time": "2024-08-22T13:27:35.627204",
     "status": "completed"
    },
    "tags": []
   },
   "outputs": [
    {
     "name": "stdout",
     "output_type": "stream",
     "text": [
      "(7560, 12)\n"
     ]
    }
   ],
   "source": [
    "# remove duplicates rows\n",
    "DataSet.drop_duplicates(subset=None, inplace=True)\n",
    "print(DataSet.shape)"
   ]
  },
  {
   "cell_type": "code",
   "execution_count": 35,
   "id": "fd9621a3",
   "metadata": {
    "execution": {
     "iopub.execute_input": "2024-08-22T13:27:35.706274Z",
     "iopub.status.busy": "2024-08-22T13:27:35.705765Z",
     "iopub.status.idle": "2024-08-22T13:27:35.713954Z",
     "shell.execute_reply": "2024-08-22T13:27:35.712674Z"
    },
    "papermill": {
     "duration": 0.029451,
     "end_time": "2024-08-22T13:27:35.716837",
     "exception": false,
     "start_time": "2024-08-22T13:27:35.687386",
     "status": "completed"
    },
    "tags": []
   },
   "outputs": [],
   "source": [
    "# convert floats\n",
    "def fix_floats(data):\n",
    "    if isinstance(data,list):\n",
    "        iterator = enumerate(data)\n",
    "    elif isinstance(data,dict):\n",
    "        iterator = data.items()\n",
    "    else:\n",
    "        raise TypeError(\"can only traverse list or dict\")\n",
    "\n",
    "    for i,value in iterator:\n",
    "        if isinstance(value,(list,dict)):\n",
    "            fix_floats(value)\n",
    "        elif isinstance(value,str):\n",
    "            try:\n",
    "                data[i] = float(value)\n",
    "            except ValueError:\n",
    "                pass\n"
   ]
  },
  {
   "cell_type": "markdown",
   "id": "b33973f0",
   "metadata": {
    "papermill": {
     "duration": 0.016594,
     "end_time": "2024-08-22T13:27:35.750985",
     "exception": false,
     "start_time": "2024-08-22T13:27:35.734391",
     "status": "completed"
    },
    "tags": []
   },
   "source": [
    "## Visualization and Answer to the Question"
   ]
  },
  {
   "cell_type": "code",
   "execution_count": 36,
   "id": "1c9126cf",
   "metadata": {
    "execution": {
     "iopub.execute_input": "2024-08-22T13:27:35.785909Z",
     "iopub.status.busy": "2024-08-22T13:27:35.785494Z",
     "iopub.status.idle": "2024-08-22T13:27:36.233157Z",
     "shell.execute_reply": "2024-08-22T13:27:36.231934Z"
    },
    "papermill": {
     "duration": 0.468306,
     "end_time": "2024-08-22T13:27:36.235780",
     "exception": false,
     "start_time": "2024-08-22T13:27:35.767474",
     "status": "completed"
    },
    "tags": []
   },
   "outputs": [
    {
     "data": {
      "image/png": "[encoded data removed]",
      "text/plain": [
       "<Figure size 1200x600 with 1 Axes>"
      ]
     },
     "metadata": {},
     "output_type": "display_data"
    }
   ],
   "source": [
    "\n",
    "# Calculate the average rating for each genre\n",
    "genre_rating_mean = DataSet.groupby('Genres')['Rating'].mean()\n",
    "\n",
    "# Sort genres by average rating in descending order and get the top 5\n",
    "top_10_genres = genre_rating_mean.sort_values(ascending=False).head(10)\n",
    "\n",
    "\n",
    "# Create a bar plot for the top 5 genres\n",
    "plt.figure(figsize=(12, 6))\n",
    "sns.barplot(x=top_10_genres.index, y=top_10_genres.values, palette='Blues')\n",
    "\n",
    "plt.title('Top 5 Genres with the Highest Average Ratings')\n",
    "plt.xlabel('Genre')\n",
    "plt.ylabel('Average Rating')\n",
    "\n",
    "plt.xticks(rotation=45)  # Rotate x-axis labels for better readability\n",
    "plt.show()\n"
   ]
  },
  {
   "cell_type": "code",
   "execution_count": 37,
   "id": "14296ea3",
   "metadata": {
    "execution": {
     "iopub.execute_input": "2024-08-22T13:27:36.330869Z",
     "iopub.status.busy": "2024-08-22T13:27:36.330453Z",
     "iopub.status.idle": "2024-08-22T13:27:36.616764Z",
     "shell.execute_reply": "2024-08-22T13:27:36.615509Z"
    },
    "papermill": {
     "duration": 0.309708,
     "end_time": "2024-08-22T13:27:36.619671",
     "exception": false,
     "start_time": "2024-08-22T13:27:36.309963",
     "status": "completed"
    },
    "tags": []
   },
   "outputs": [
    {
     "data": {
      "image/png": "[encoded data removed]",
      "text/plain": [
       "<Figure size 800x600 with 1 Axes>"
      ]
     },
     "metadata": {},
     "output_type": "display_data"
    }
   ],
   "source": [
    "\n",
    "# Assuming 'DataSet' has 'Type' (free/paid) and 'Downloads' columns\n",
    "\n",
    "# Calculate the total number of downloads for free and paid apps\n",
    "downloads_by_type = DataSet.groupby('Type')['Installs'].sum()\n",
    "\n",
    "# Create a bar plot to compare the number of downloads\n",
    "plt.figure(figsize=(8, 6))\n",
    "sns.barplot(x=downloads_by_type.index, y=downloads_by_type.values, palette='Blues')\n",
    "\n",
    "plt.title('Total Downloads: Free vs Paid Apps')\n",
    "plt.xlabel('App Type')\n",
    "plt.ylabel('Total Downloads')\n",
    "\n",
    "plt.show()\n"
   ]
  },
  {
   "cell_type": "code",
   "execution_count": 38,
   "id": "0a5e7303",
   "metadata": {
    "execution": {
     "iopub.execute_input": "2024-08-22T13:27:36.659115Z",
     "iopub.status.busy": "2024-08-22T13:27:36.658650Z",
     "iopub.status.idle": "2024-08-22T13:27:36.922409Z",
     "shell.execute_reply": "2024-08-22T13:27:36.920815Z"
    },
    "papermill": {
     "duration": 0.286216,
     "end_time": "2024-08-22T13:27:36.925114",
     "exception": false,
     "start_time": "2024-08-22T13:27:36.638898",
     "status": "completed"
    },
    "tags": []
   },
   "outputs": [
    {
     "data": {
      "image/png": "[encoded data removed]",
      "text/plain": [
       "<Figure size 1200x800 with 1 Axes>"
      ]
     },
     "metadata": {},
     "output_type": "display_data"
    }
   ],
   "source": [
    "\n",
    "# Assuming 'DataSet' has a 'Category' column\n",
    "\n",
    "# Calculate the number of applications for each category\n",
    "category_counts = DataSet['Category'].value_counts()\n",
    "\n",
    "# Select the top 12 categories\n",
    "top_12_categories = category_counts.head(12)\n",
    "\n",
    "# Create a DataFrame for easier plotting\n",
    "df = pd.DataFrame({\n",
    "    'Category': top_12_categories.index,\n",
    "    'Count': top_12_categories.values\n",
    "})\n",
    "\n",
    "# Plot the tree map\n",
    "plt.figure(figsize=(12, 8))\n",
    "squarify.plot(sizes=df['Count'], label=df['Category'], alpha=.8, color=sns.color_palette('Blues', len(df)))\n",
    "\n",
    "plt.title('Top 12 Categories by Number of Applications')\n",
    "plt.axis('off')  # Hide the axes for a cleaner look\n",
    "plt.show()\n"
   ]
  }
 ],
 "metadata": {
  "kaggle": {
   "accelerator": "none",
   "dataSources": [
    {
     "datasetId": 5560516,
     "sourceId": 9197476,
     "sourceType": "datasetVersion"
    }
   ],
   "dockerImageVersionId": 30761,
   "isGpuEnabled": false,
   "isInternetEnabled": true,
   "language": "python",
   "sourceType": "notebook"
  },
  "kernelspec": {
   "display_name": "Python 3",
   "language": "python",
   "name": "python3"
  },
  "language_info": {
   "codemirror_mode": {
    "name": "ipython",
    "version": 3
   },
   "file_extension": ".py",
   "mimetype": "text/x-python",
   "name": "python",
   "nbconvert_exporter": "python",
   "pygments_lexer": "ipython3",
   "version": "3.10.14"
  },
  "papermill": {
   "default_parameters": {},
   "duration": 10.101881,
   "end_time": "2024-08-22T13:27:37.667185",
   "environment_variables": {},
   "exception": null,
   "input_path": "__notebook__.ipynb",
   "output_path": "__notebook__.ipynb",
   "parameters": {},
   "start_time": "2024-08-22T13:27:27.565304",
   "version": "2.6.0"
  }
 },
 "nbformat": 4,
 "nbformat_minor": 5
}
